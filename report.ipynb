{
 "cells": [
  {
   "cell_type": "markdown",
   "source": [
    "# Raport: Analiza danych i budowa modelu predykcyjnego\n",
    "**Cel:** Na podstawie dostarczonych danych zbudować model predykcyjny przewidujący wartość zmiennej `score`."
   ],
   "metadata": {
    "collapsed": false
   }
  },
  {
   "cell_type": "code",
   "execution_count": null,
   "outputs": [],
   "source": [
    "# Importowanie bibliotek\n",
    "import pandas as pd\n",
    "import seaborn as sns\n",
    "import matplotlib.pyplot as plt\n",
    "\n",
    "# Wczytywanie danych\n",
    "df = pd.read_csv('https://vincentarelbundock.github.io/Rdatasets/csv/AER/CollegeDistance.csv')\n",
    "\n",
    "# Podstawowe informacje o danych\n",
    "df.info()\n",
    "\n",
    "# Opis statystyczny\n",
    "df.describe()\n"
   ],
   "metadata": {
    "collapsed": false
   }
  },
  {
   "cell_type": "markdown",
   "source": [
    "### Eksploracja danych\n",
    "Dane zawierają informacje o odległości college'u i osiągnięciach edukacyjnych uczniów. Tabela poniżej przedstawia opis statystyczny oraz podstawowe informacje o zmiennych."
   ],
   "metadata": {
    "collapsed": false
   }
  },
  {
   "cell_type": "code",
   "execution_count": null,
   "outputs": [],
   "source": [
    "# Wykresy rozkładów zmiennych\n",
    "sns.pairplot(df)\n",
    "plt.savefig('pairplot.png')\n",
    "plt.show()\n"
   ],
   "metadata": {
    "collapsed": false
   }
  },
  {
   "cell_type": "code",
   "execution_count": null,
   "outputs": [],
   "source": [
    "from sklearn.model_selection import train_test_split\n",
    "\n",
    "# Usunięcie zbędnych kolumn i podział na zmienne objaśniające i zmienną celu\n",
    "X = df.drop(columns=['Unnamed: 0', 'score'])\n",
    "y = df['score']\n",
    "\n",
    "# Podział danych\n",
    "X_train, X_test, y_train, y_test = train_test_split(X, y, test_size=0.3, random_state=42)\n"
   ],
   "metadata": {
    "collapsed": false
   }
  },
  {
   "cell_type": "markdown",
   "source": [
    "### Inżynieria cech\n",
    "Dane zostały podzielone na zbiór treningowy (70%) i testowy (30%) oraz oczyszczone z niepotrzebnych kolumn.\n"
   ],
   "metadata": {
    "collapsed": false
   }
  },
  {
   "cell_type": "code",
   "execution_count": null,
   "outputs": [],
   "source": [
    "from sklearn.ensemble import RandomForestRegressor\n",
    "\n",
    "# Inicjalizacja modelu\n",
    "model = RandomForestRegressor(random_state=42)\n",
    "\n",
    "# Trenowanie modelu\n",
    "model.fit(X_train, y_train)\n"
   ],
   "metadata": {
    "collapsed": false
   }
  },
  {
   "cell_type": "markdown",
   "source": [
    "### Budowa modelu\n",
    "Model Random Forest został wybrany ze względu na jego skuteczność przy pracy z dużymi zbiorami danych oraz jego zdolność do radzenia sobie z cechami o różnej skali.\n"
   ],
   "metadata": {
    "collapsed": false
   }
  },
  {
   "cell_type": "code",
   "execution_count": null,
   "outputs": [],
   "source": [
    "from sklearn.metrics import mean_squared_error, r2_score\n",
    "\n",
    "# Predykcje i ewaluacja modelu\n",
    "y_pred = model.predict(X_test)\n",
    "mse = mean_squared_error(y_test, y_pred)\n",
    "r2 = r2_score(y_test, y_pred)\n",
    "\n",
    "print(f'MSE: {mse}')\n",
    "print(f'R²: {r2}')\n"
   ],
   "metadata": {
    "collapsed": false
   }
  },
  {
   "cell_type": "markdown",
   "source": [
    "### Ocena modelu\n",
    "Model został oceniony przy użyciu MSE (Mean Squared Error) oraz R². Wyniki wskazują, że model osiągnął satysfakcjonujące wyniki, z wartością R² wynoszącą {r2:.2f} i MSE równym {mse:.2f}.\n"
   ],
   "metadata": {
    "collapsed": false
   }
  }
 ],
 "metadata": {
  "kernelspec": {
   "display_name": "Python 3",
   "language": "python",
   "name": "python3"
  },
  "language_info": {
   "codemirror_mode": {
    "name": "ipython",
    "version": 2
   },
   "file_extension": ".py",
   "mimetype": "text/x-python",
   "name": "python",
   "nbconvert_exporter": "python",
   "pygments_lexer": "ipython2",
   "version": "2.7.6"
  }
 },
 "nbformat": 4,
 "nbformat_minor": 0
}
