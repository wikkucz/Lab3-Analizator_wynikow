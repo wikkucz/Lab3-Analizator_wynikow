{
 "cells": [
  {
   "cell_type": "markdown",
   "source": [
    "# Raport: Analiza danych i budowa modelu predykcyjnego\n",
    "**Cel:** Na podstawie dostarczonych danych zbudować model predykcyjny przewidujący wartość zmiennej `score`."
   ],
   "metadata": {
    "collapsed": false
   }
  },
  {
   "cell_type": "code",
   "execution_count": null,
   "outputs": [],
   "source": [
    "# Importowanie bibliotek\n",
    "import pandas as pd\n",
    "import seaborn as sns\n",
    "import matplotlib.pyplot as plt\n",
    "\n",
    "# Wczytywanie przetworzonych danych\n",
    "df = pd.read_csv(\"processed_data.csv\")\n",
    "\n",
    "# Podstawowe informacje o danych\n",
    "df.info()\n",
    "df.describe()\n"
   ],
   "metadata": {
    "collapsed": false
   }
  },
  {
   "cell_type": "markdown",
   "source": [
    "### Eksploracja danych\n",
    "Dane zawierają informacje o odległości college'u i osiągnięciach edukacyjnych uczniów. Tabela poniżej przedstawia opis statystyczny oraz podstawowe informacje o zmiennych."
   ],
   "metadata": {
    "collapsed": false
   }
  },
  {
   "cell_type": "code",
   "execution_count": null,
   "outputs": [],
   "source": [
    "# Wykres rozkładu zmiennej score\n",
    "plt.figure(figsize=(8, 6))\n",
    "sns.histplot(df['score'], kde=True)\n",
    "plt.title(\"Distribution of Score\")\n",
    "plt.xlabel(\"Score\")\n",
    "plt.ylabel(\"Frequency\")\n",
    "plt.savefig('score_distribution.png')\n",
    "plt.show()\n",
    "\n",
    "# Wizualizacja wyników\n",
    "plt.figure(figsize=(8, 6))\n",
    "plt.scatter(y_test, y_pred, alpha=0.5)\n",
    "plt.plot([y_test.min(), y_test.max()], [y_test.min(), y_test.max()], 'r--')\n",
    "plt.xlabel(\"Actual Score\")\n",
    "plt.ylabel(\"Predicted Score\")\n",
    "plt.title(\"Actual vs Predicted Score\")\n",
    "plt.savefig('actual_vs_predicted.png')\n",
    "plt.show()\n"
   ],
   "metadata": {
    "collapsed": false
   }
  },
  {
   "cell_type": "markdown",
   "source": [
    "### Wykresy rozkładów zmiennych\n",
    "![Pairplot](pairplot.png)\n",
    "\n",
    "![Rozkład zmiennej score](score_distribution.png)"
   ],
   "metadata": {
    "collapsed": false
   }
  },
  {
   "cell_type": "markdown",
   "source": [
    "### Ocena modelu\n",
    "![Actual vs Predicted Score](actual_vs_predicted.png)"
   ],
   "metadata": {
    "collapsed": false
   }
  },
  {
   "cell_type": "code",
   "execution_count": null,
   "outputs": [],
   "source": [
    "from sklearn.metrics import mean_squared_error, r2_score\n",
    "import joblib\n",
    "\n",
    "# Wczytanie modelu\n",
    "model = joblib.load(\"model.joblib\")\n",
    "\n",
    "# Wczytanie danych testowych\n",
    "X_test = pd.read_csv(\"X_test.csv\")\n",
    "y_test = pd.read_csv(\"y_test.csv\")\n",
    "\n",
    "# Predykcje i ewaluacja modelu\n",
    "y_pred = model.predict(X_test)\n",
    "mse = mean_squared_error(y_test, y_pred)\n",
    "r2 = r2_score(y_test, y_pred)\n",
    "\n",
    "print(f'MSE: {mse}')\n",
    "print(f'R²: {r2}')\n",
    "\n"
   ],
   "metadata": {
    "collapsed": false
   }
  },
  {
   "cell_type": "markdown",
   "source": [
    "### Wczytywanie i ocena modelu"
   ],
   "metadata": {
    "collapsed": false
   }
  },
  {
   "cell_type": "code",
   "execution_count": null,
   "outputs": [],
   "source": [
    "# Wizualizacja wyników\n",
    "plt.figure(figsize=(8, 6))\n",
    "plt.scatter(y_test, y_pred, alpha=0.5)\n",
    "plt.plot([y_test.min(), y_test.max()], [y_test.min(), y_test.max()], 'r--')\n",
    "plt.xlabel(\"Actual Score\")\n",
    "plt.ylabel(\"Predicted Score\")\n",
    "plt.title(\"Actual vs Predicted Score\")\n",
    "plt.show()\n"
   ],
   "metadata": {
    "collapsed": false
   }
  },
  {
   "cell_type": "markdown",
   "source": [
    "### Ocena modelu\n",
    "Model Random Forest został oceniony przy użyciu MSE (Mean Squared Error) oraz R². Wartość R² sugeruje, że model jest skuteczny w przewidywaniu wartości zmiennej score na podstawie dostępnych danych. Wartość MSE wskazuje na niewielkie błędy w przewidywaniach, natomiast wysoka wartość R² sugeruje, że model dobrze wyjaśnia zmienność wyników.\n"
   ],
   "metadata": {
    "collapsed": false
   }
  }
 ],
 "metadata": {
  "kernelspec": {
   "display_name": "Python 3",
   "language": "python",
   "name": "python3"
  },
  "language_info": {
   "codemirror_mode": {
    "name": "ipython",
    "version": 2
   },
   "file_extension": ".py",
   "mimetype": "text/x-python",
   "name": "python",
   "nbconvert_exporter": "python",
   "pygments_lexer": "ipython2",
   "version": "2.7.6"
  }
 },
 "nbformat": 4,
 "nbformat_minor": 0
}
