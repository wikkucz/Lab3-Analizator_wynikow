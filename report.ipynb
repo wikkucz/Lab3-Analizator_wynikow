{
 "cells": [
  {
   "cell_type": "markdown",
   "source": [
    "# Raport: Analiza danych i budowa modelu predykcyjnego\n",
    "**Cel:** Na podstawie dostarczonych danych zbudować model predykcyjny przewidujący wartość zmiennej `score`."
   ],
   "metadata": {
    "collapsed": false
   }
  },
  {
   "cell_type": "code",
   "execution_count": 7,
   "outputs": [
    {
     "name": "stdout",
     "output_type": "stream",
     "text": [
      "<class 'pandas.core.frame.DataFrame'>\n",
      "RangeIndex: 4739 entries, 0 to 4738\n",
      "Data columns (total 16 columns):\n",
      " #   Column              Non-Null Count  Dtype  \n",
      "---  ------              --------------  -----  \n",
      " 0   rownames            4739 non-null   int64  \n",
      " 1   unemp               4739 non-null   float64\n",
      " 2   wage                4739 non-null   float64\n",
      " 3   distance            4739 non-null   float64\n",
      " 4   tuition             4739 non-null   float64\n",
      " 5   education           4739 non-null   int64  \n",
      " 6   gender_male         4739 non-null   bool   \n",
      " 7   ethnicity_hispanic  4739 non-null   bool   \n",
      " 8   ethnicity_other     4739 non-null   bool   \n",
      " 9   fcollege_yes        4739 non-null   bool   \n",
      " 10  mcollege_yes        4739 non-null   bool   \n",
      " 11  home_yes            4739 non-null   bool   \n",
      " 12  urban_yes           4739 non-null   bool   \n",
      " 13  income_low          4739 non-null   bool   \n",
      " 14  region_west         4739 non-null   bool   \n",
      " 15  score               4739 non-null   float64\n",
      "dtypes: bool(9), float64(5), int64(2)\n",
      "memory usage: 300.9 KB\n"
     ]
    },
    {
     "data": {
      "text/plain": "           rownames        unemp         wage     distance      tuition  \\\ncount   4739.000000  4739.000000  4739.000000  4739.000000  4739.000000   \nmean    3954.638953     7.597215     9.500506     1.802870     0.814608   \nstd     5953.827761     2.763581     1.343067     2.297128     0.339504   \nmin        1.000000     1.400000     6.590000     0.000000     0.257510   \n25%     1185.500000     5.900000     8.850000     0.400000     0.484990   \n50%     2370.000000     7.100000     9.680000     1.000000     0.824480   \n75%     3554.500000     8.900000    10.150000     2.500000     1.127020   \nmax    37810.000000    24.900000    12.960000    20.000000     1.404160   \n\n         education        score  \ncount  4739.000000  4739.000000  \nmean     13.807765    50.889029  \nstd       1.789107     8.701910  \nmin      12.000000    28.950001  \n25%      12.000000    43.924999  \n50%      13.000000    51.189999  \n75%      16.000000    57.769999  \nmax      18.000000    72.809998  ",
      "text/html": "<div>\n<style scoped>\n    .dataframe tbody tr th:only-of-type {\n        vertical-align: middle;\n    }\n\n    .dataframe tbody tr th {\n        vertical-align: top;\n    }\n\n    .dataframe thead th {\n        text-align: right;\n    }\n</style>\n<table border=\"1\" class=\"dataframe\">\n  <thead>\n    <tr style=\"text-align: right;\">\n      <th></th>\n      <th>rownames</th>\n      <th>unemp</th>\n      <th>wage</th>\n      <th>distance</th>\n      <th>tuition</th>\n      <th>education</th>\n      <th>score</th>\n    </tr>\n  </thead>\n  <tbody>\n    <tr>\n      <th>count</th>\n      <td>4739.000000</td>\n      <td>4739.000000</td>\n      <td>4739.000000</td>\n      <td>4739.000000</td>\n      <td>4739.000000</td>\n      <td>4739.000000</td>\n      <td>4739.000000</td>\n    </tr>\n    <tr>\n      <th>mean</th>\n      <td>3954.638953</td>\n      <td>7.597215</td>\n      <td>9.500506</td>\n      <td>1.802870</td>\n      <td>0.814608</td>\n      <td>13.807765</td>\n      <td>50.889029</td>\n    </tr>\n    <tr>\n      <th>std</th>\n      <td>5953.827761</td>\n      <td>2.763581</td>\n      <td>1.343067</td>\n      <td>2.297128</td>\n      <td>0.339504</td>\n      <td>1.789107</td>\n      <td>8.701910</td>\n    </tr>\n    <tr>\n      <th>min</th>\n      <td>1.000000</td>\n      <td>1.400000</td>\n      <td>6.590000</td>\n      <td>0.000000</td>\n      <td>0.257510</td>\n      <td>12.000000</td>\n      <td>28.950001</td>\n    </tr>\n    <tr>\n      <th>25%</th>\n      <td>1185.500000</td>\n      <td>5.900000</td>\n      <td>8.850000</td>\n      <td>0.400000</td>\n      <td>0.484990</td>\n      <td>12.000000</td>\n      <td>43.924999</td>\n    </tr>\n    <tr>\n      <th>50%</th>\n      <td>2370.000000</td>\n      <td>7.100000</td>\n      <td>9.680000</td>\n      <td>1.000000</td>\n      <td>0.824480</td>\n      <td>13.000000</td>\n      <td>51.189999</td>\n    </tr>\n    <tr>\n      <th>75%</th>\n      <td>3554.500000</td>\n      <td>8.900000</td>\n      <td>10.150000</td>\n      <td>2.500000</td>\n      <td>1.127020</td>\n      <td>16.000000</td>\n      <td>57.769999</td>\n    </tr>\n    <tr>\n      <th>max</th>\n      <td>37810.000000</td>\n      <td>24.900000</td>\n      <td>12.960000</td>\n      <td>20.000000</td>\n      <td>1.404160</td>\n      <td>18.000000</td>\n      <td>72.809998</td>\n    </tr>\n  </tbody>\n</table>\n</div>"
     },
     "execution_count": 7,
     "metadata": {},
     "output_type": "execute_result"
    }
   ],
   "source": [
    "# Importowanie bibliotek\n",
    "import pandas as pd\n",
    "import seaborn as sns\n",
    "import matplotlib.pyplot as plt\n",
    "\n",
    "# Wczytywanie przetworzonych danych\n",
    "df = pd.read_csv(\"src/processed_data_with_dummies.csv\")\n",
    "\n",
    "# Podstawowe informacje o danych\n",
    "df.info()\n",
    "df.describe()\n"
   ],
   "metadata": {
    "collapsed": false
   }
  },
  {
   "cell_type": "markdown",
   "source": [
    "### Eksploracja danych\n",
    "Dane zawierają informacje o odległości college'u i osiągnięciach edukacyjnych uczniów. Tabela poniżej przedstawia opis statystyczny oraz podstawowe informacje o zmiennych."
   ],
   "metadata": {
    "collapsed": false
   }
  },
  {
   "cell_type": "code",
   "execution_count": 8,
   "outputs": [],
   "source": [
    "# Wykresy rozkładów zmiennych\n",
    "sns.pairplot(df)\n",
    "plt.savefig('pairplot.png')\n",
    "plt.close()\n",
    "plt.show()\n",
    "\n",
    "# Wykres rozkładu zmiennej score\n",
    "plt.figure(figsize=(8, 6))\n",
    "sns.histplot(df['score'], kde=True)\n",
    "plt.title(\"Distribution of Score\")\n",
    "plt.xlabel(\"Score\")\n",
    "plt.ylabel(\"Frequency\")\n",
    "plt.savefig('score_distribution.png')\n",
    "plt.close()\n",
    "plt.show()\n"
   ],
   "metadata": {
    "collapsed": false
   }
  },
  {
   "cell_type": "markdown",
   "source": [
    "### Wykresy rozkładów zmiennych\n",
    "![Pairplot](pairplot.png)\n",
    "\n",
    "![Rozkład zmiennej score](score_distribution.png)"
   ],
   "metadata": {
    "collapsed": false
   }
  },
  {
   "cell_type": "code",
   "execution_count": 9,
   "outputs": [
    {
     "ename": "ValueError",
     "evalue": "The feature names should match those that were passed during fit.\nFeature names seen at fit time, yet now missing:\n- score\n",
     "output_type": "error",
     "traceback": [
      "\u001B[1;31m---------------------------------------------------------------------------\u001B[0m",
      "\u001B[1;31mValueError\u001B[0m                                Traceback (most recent call last)",
      "Cell \u001B[1;32mIn[9], line 18\u001B[0m\n\u001B[0;32m     15\u001B[0m model \u001B[38;5;241m=\u001B[39m joblib\u001B[38;5;241m.\u001B[39mload(\u001B[38;5;124m\"\u001B[39m\u001B[38;5;124msrc/trained_model.joblib\u001B[39m\u001B[38;5;124m\"\u001B[39m)\n\u001B[0;32m     17\u001B[0m \u001B[38;5;66;03m# Predykcja\u001B[39;00m\n\u001B[1;32m---> 18\u001B[0m y_pred \u001B[38;5;241m=\u001B[39m \u001B[43mmodel\u001B[49m\u001B[38;5;241;43m.\u001B[39;49m\u001B[43mpredict\u001B[49m\u001B[43m(\u001B[49m\u001B[43mX_test\u001B[49m\u001B[43m)\u001B[49m\n\u001B[0;32m     20\u001B[0m \u001B[38;5;66;03m# Ocena modelu\u001B[39;00m\n\u001B[0;32m     21\u001B[0m mse \u001B[38;5;241m=\u001B[39m mean_squared_error(y_test, y_pred)\n",
      "File \u001B[1;32m~\\AppData\\Local\\Programs\\Python\\Python311\\Lib\\site-packages\\sklearn\\ensemble\\_forest.py:1063\u001B[0m, in \u001B[0;36mForestRegressor.predict\u001B[1;34m(self, X)\u001B[0m\n\u001B[0;32m   1061\u001B[0m check_is_fitted(\u001B[38;5;28mself\u001B[39m)\n\u001B[0;32m   1062\u001B[0m \u001B[38;5;66;03m# Check data\u001B[39;00m\n\u001B[1;32m-> 1063\u001B[0m X \u001B[38;5;241m=\u001B[39m \u001B[38;5;28;43mself\u001B[39;49m\u001B[38;5;241;43m.\u001B[39;49m\u001B[43m_validate_X_predict\u001B[49m\u001B[43m(\u001B[49m\u001B[43mX\u001B[49m\u001B[43m)\u001B[49m\n\u001B[0;32m   1065\u001B[0m \u001B[38;5;66;03m# Assign chunk of trees to jobs\u001B[39;00m\n\u001B[0;32m   1066\u001B[0m n_jobs, _, _ \u001B[38;5;241m=\u001B[39m _partition_estimators(\u001B[38;5;28mself\u001B[39m\u001B[38;5;241m.\u001B[39mn_estimators, \u001B[38;5;28mself\u001B[39m\u001B[38;5;241m.\u001B[39mn_jobs)\n",
      "File \u001B[1;32m~\\AppData\\Local\\Programs\\Python\\Python311\\Lib\\site-packages\\sklearn\\ensemble\\_forest.py:641\u001B[0m, in \u001B[0;36mBaseForest._validate_X_predict\u001B[1;34m(self, X)\u001B[0m\n\u001B[0;32m    638\u001B[0m \u001B[38;5;28;01melse\u001B[39;00m:\n\u001B[0;32m    639\u001B[0m     force_all_finite \u001B[38;5;241m=\u001B[39m \u001B[38;5;28;01mTrue\u001B[39;00m\n\u001B[1;32m--> 641\u001B[0m X \u001B[38;5;241m=\u001B[39m \u001B[38;5;28;43mself\u001B[39;49m\u001B[38;5;241;43m.\u001B[39;49m\u001B[43m_validate_data\u001B[49m\u001B[43m(\u001B[49m\n\u001B[0;32m    642\u001B[0m \u001B[43m    \u001B[49m\u001B[43mX\u001B[49m\u001B[43m,\u001B[49m\n\u001B[0;32m    643\u001B[0m \u001B[43m    \u001B[49m\u001B[43mdtype\u001B[49m\u001B[38;5;241;43m=\u001B[39;49m\u001B[43mDTYPE\u001B[49m\u001B[43m,\u001B[49m\n\u001B[0;32m    644\u001B[0m \u001B[43m    \u001B[49m\u001B[43maccept_sparse\u001B[49m\u001B[38;5;241;43m=\u001B[39;49m\u001B[38;5;124;43m\"\u001B[39;49m\u001B[38;5;124;43mcsr\u001B[39;49m\u001B[38;5;124;43m\"\u001B[39;49m\u001B[43m,\u001B[49m\n\u001B[0;32m    645\u001B[0m \u001B[43m    \u001B[49m\u001B[43mreset\u001B[49m\u001B[38;5;241;43m=\u001B[39;49m\u001B[38;5;28;43;01mFalse\u001B[39;49;00m\u001B[43m,\u001B[49m\n\u001B[0;32m    646\u001B[0m \u001B[43m    \u001B[49m\u001B[43mforce_all_finite\u001B[49m\u001B[38;5;241;43m=\u001B[39;49m\u001B[43mforce_all_finite\u001B[49m\u001B[43m,\u001B[49m\n\u001B[0;32m    647\u001B[0m \u001B[43m\u001B[49m\u001B[43m)\u001B[49m\n\u001B[0;32m    648\u001B[0m \u001B[38;5;28;01mif\u001B[39;00m issparse(X) \u001B[38;5;129;01mand\u001B[39;00m (X\u001B[38;5;241m.\u001B[39mindices\u001B[38;5;241m.\u001B[39mdtype \u001B[38;5;241m!=\u001B[39m np\u001B[38;5;241m.\u001B[39mintc \u001B[38;5;129;01mor\u001B[39;00m X\u001B[38;5;241m.\u001B[39mindptr\u001B[38;5;241m.\u001B[39mdtype \u001B[38;5;241m!=\u001B[39m np\u001B[38;5;241m.\u001B[39mintc):\n\u001B[0;32m    649\u001B[0m     \u001B[38;5;28;01mraise\u001B[39;00m \u001B[38;5;167;01mValueError\u001B[39;00m(\u001B[38;5;124m\"\u001B[39m\u001B[38;5;124mNo support for np.int64 index based sparse matrices\u001B[39m\u001B[38;5;124m\"\u001B[39m)\n",
      "File \u001B[1;32m~\\AppData\\Local\\Programs\\Python\\Python311\\Lib\\site-packages\\sklearn\\base.py:608\u001B[0m, in \u001B[0;36mBaseEstimator._validate_data\u001B[1;34m(self, X, y, reset, validate_separately, cast_to_ndarray, **check_params)\u001B[0m\n\u001B[0;32m    537\u001B[0m \u001B[38;5;28;01mdef\u001B[39;00m \u001B[38;5;21m_validate_data\u001B[39m(\n\u001B[0;32m    538\u001B[0m     \u001B[38;5;28mself\u001B[39m,\n\u001B[0;32m    539\u001B[0m     X\u001B[38;5;241m=\u001B[39m\u001B[38;5;124m\"\u001B[39m\u001B[38;5;124mno_validation\u001B[39m\u001B[38;5;124m\"\u001B[39m,\n\u001B[1;32m   (...)\u001B[0m\n\u001B[0;32m    544\u001B[0m     \u001B[38;5;241m*\u001B[39m\u001B[38;5;241m*\u001B[39mcheck_params,\n\u001B[0;32m    545\u001B[0m ):\n\u001B[0;32m    546\u001B[0m \u001B[38;5;250m    \u001B[39m\u001B[38;5;124;03m\"\"\"Validate input data and set or check the `n_features_in_` attribute.\u001B[39;00m\n\u001B[0;32m    547\u001B[0m \n\u001B[0;32m    548\u001B[0m \u001B[38;5;124;03m    Parameters\u001B[39;00m\n\u001B[1;32m   (...)\u001B[0m\n\u001B[0;32m    606\u001B[0m \u001B[38;5;124;03m        validated.\u001B[39;00m\n\u001B[0;32m    607\u001B[0m \u001B[38;5;124;03m    \"\"\"\u001B[39;00m\n\u001B[1;32m--> 608\u001B[0m     \u001B[38;5;28;43mself\u001B[39;49m\u001B[38;5;241;43m.\u001B[39;49m\u001B[43m_check_feature_names\u001B[49m\u001B[43m(\u001B[49m\u001B[43mX\u001B[49m\u001B[43m,\u001B[49m\u001B[43m \u001B[49m\u001B[43mreset\u001B[49m\u001B[38;5;241;43m=\u001B[39;49m\u001B[43mreset\u001B[49m\u001B[43m)\u001B[49m\n\u001B[0;32m    610\u001B[0m     \u001B[38;5;28;01mif\u001B[39;00m y \u001B[38;5;129;01mis\u001B[39;00m \u001B[38;5;28;01mNone\u001B[39;00m \u001B[38;5;129;01mand\u001B[39;00m \u001B[38;5;28mself\u001B[39m\u001B[38;5;241m.\u001B[39m_get_tags()[\u001B[38;5;124m\"\u001B[39m\u001B[38;5;124mrequires_y\u001B[39m\u001B[38;5;124m\"\u001B[39m]:\n\u001B[0;32m    611\u001B[0m         \u001B[38;5;28;01mraise\u001B[39;00m \u001B[38;5;167;01mValueError\u001B[39;00m(\n\u001B[0;32m    612\u001B[0m             \u001B[38;5;124mf\u001B[39m\u001B[38;5;124m\"\u001B[39m\u001B[38;5;124mThis \u001B[39m\u001B[38;5;132;01m{\u001B[39;00m\u001B[38;5;28mself\u001B[39m\u001B[38;5;241m.\u001B[39m\u001B[38;5;18m__class__\u001B[39m\u001B[38;5;241m.\u001B[39m\u001B[38;5;18m__name__\u001B[39m\u001B[38;5;132;01m}\u001B[39;00m\u001B[38;5;124m estimator \u001B[39m\u001B[38;5;124m\"\u001B[39m\n\u001B[0;32m    613\u001B[0m             \u001B[38;5;124m\"\u001B[39m\u001B[38;5;124mrequires y to be passed, but the target y is None.\u001B[39m\u001B[38;5;124m\"\u001B[39m\n\u001B[0;32m    614\u001B[0m         )\n",
      "File \u001B[1;32m~\\AppData\\Local\\Programs\\Python\\Python311\\Lib\\site-packages\\sklearn\\base.py:535\u001B[0m, in \u001B[0;36mBaseEstimator._check_feature_names\u001B[1;34m(self, X, reset)\u001B[0m\n\u001B[0;32m    530\u001B[0m \u001B[38;5;28;01mif\u001B[39;00m \u001B[38;5;129;01mnot\u001B[39;00m missing_names \u001B[38;5;129;01mand\u001B[39;00m \u001B[38;5;129;01mnot\u001B[39;00m unexpected_names:\n\u001B[0;32m    531\u001B[0m     message \u001B[38;5;241m+\u001B[39m\u001B[38;5;241m=\u001B[39m (\n\u001B[0;32m    532\u001B[0m         \u001B[38;5;124m\"\u001B[39m\u001B[38;5;124mFeature names must be in the same order as they were in fit.\u001B[39m\u001B[38;5;130;01m\\n\u001B[39;00m\u001B[38;5;124m\"\u001B[39m\n\u001B[0;32m    533\u001B[0m     )\n\u001B[1;32m--> 535\u001B[0m \u001B[38;5;28;01mraise\u001B[39;00m \u001B[38;5;167;01mValueError\u001B[39;00m(message)\n",
      "\u001B[1;31mValueError\u001B[0m: The feature names should match those that were passed during fit.\nFeature names seen at fit time, yet now missing:\n- score\n"
     ]
    }
   ],
   "source": [
    "import pandas as pd\n",
    "from sklearn.model_selection import train_test_split\n",
    "from sklearn.metrics import mean_squared_error, r2_score\n",
    "import joblib\n",
    "import matplotlib.pyplot as plt\n",
    "\n",
    "# Przygotowanie danych\n",
    "X = df.drop(columns=['score'])  # Upewnij się, że 'score' jest usunięte\n",
    "y = df['score']\n",
    "\n",
    "# Użycie podziału danych na zestaw treningowy i testowy\n",
    "X_train, X_test, y_train, y_test = train_test_split(X, y, test_size=0.2, random_state=42)\n",
    "\n",
    "# Wczytaj model\n",
    "model = joblib.load(\"src/trained_model.joblib\")\n",
    "\n",
    "# Predykcja\n",
    "y_pred = model.predict(X_test)\n",
    "\n",
    "# Ocena modelu\n",
    "mse = mean_squared_error(y_test, y_pred)\n",
    "r2 = r2_score(y_test, y_pred)\n",
    "\n",
    "# Wizualizacja wyników\n",
    "plt.figure(figsize=(8, 6))\n",
    "plt.scatter(y_test, y_pred, alpha=0.5)\n",
    "plt.plot([y_test.min(), y_test.max()], [y_test.min(), y_test.max()], 'r--')\n",
    "plt.xlabel(\"Actual Score\")\n",
    "plt.ylabel(\"Predicted Score\")\n",
    "plt.title(\"Actual vs Predicted Score\")\n",
    "plt.savefig('actual_vs_predicted.png')\n",
    "plt.close()\n",
    "\n",
    "\n"
   ],
   "metadata": {
    "collapsed": false
   }
  },
  {
   "cell_type": "markdown",
   "source": [
    "### Ocena modelu\n",
    "![Actual vs Predicted Score](actual_vs_predicted.png)"
   ],
   "metadata": {
    "collapsed": false
   }
  },
  {
   "cell_type": "markdown",
   "source": [
    "### Opis wyników\n",
    "Model Random Forest został oceniony przy użyciu MSE (Mean Squared Error) oraz R². Wartość R² sugeruje, że model jest skuteczny w przewidywaniu wartości zmiennej score na podstawie dostępnych danych. Wartość MSE wskazuje na niewielkie błędy w przewidywaniach, natomiast wysoka wartość R² sugeruje, że model dobrze wyjaśnia zmienność wyników.\n"
   ],
   "metadata": {
    "collapsed": false
   }
  },
  {
   "cell_type": "code",
   "execution_count": null,
   "outputs": [],
   "source": [
    "# Ocena modelu\n",
    "print(\"Ocena modelu:\")\n",
    "print(f\"Model Random Forest został oceniony przy użyciu MSE (Mean Squared Error) oraz R².\")\n",
    "print(f\"Uzyskane wyniki wskazują na satysfakcjonującą jakość predykcji,\")\n",
    "print(f\"z wartością R² wynoszącą {r2:.2f} oraz MSE równym {mse:.2f}.\")\n",
    "print(\"Model jest skuteczny w przewidywaniu wartości zmiennej 'score' na podstawie dostępnych danych.\")\n"
   ],
   "metadata": {
    "collapsed": false
   }
  }
 ],
 "metadata": {
  "kernelspec": {
   "display_name": "Python 3",
   "language": "python",
   "name": "python3"
  },
  "language_info": {
   "codemirror_mode": {
    "name": "ipython",
    "version": 2
   },
   "file_extension": ".py",
   "mimetype": "text/x-python",
   "name": "python",
   "nbconvert_exporter": "python",
   "pygments_lexer": "ipython2",
   "version": "2.7.6"
  }
 },
 "nbformat": 4,
 "nbformat_minor": 0
}
